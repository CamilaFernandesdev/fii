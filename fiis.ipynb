{
 "cells": [
  {
   "cell_type": "markdown",
   "metadata": {},
   "source": [
    "# 0.0 IMPORTS"
   ]
  },
  {
   "cell_type": "code",
   "execution_count": 131,
   "metadata": {},
   "outputs": [],
   "source": [
    "import requests\n",
    "import pandas           as pd\n",
    "import pandas_ta        as pd_ta\n",
    "import numpy            as np\n",
    "import seaborn          as sns\n",
    "import yfinance         as yfin #workaround as pandas_datareader is not working on yahoo today\n",
    "yfin.pdr_override()\n",
    "import matplotlib.pyplot as plt\n",
    "\n",
    "from datetime                   import date, timedelta\n",
    "from bs4                        import BeautifulSoup\n",
    "from pandas_datareader          import data as pdr\n",
    "from sklearn.linear_model       import LinearRegression \n",
    "from sklearn.model_selection    import train_test_split\n",
    "from sklearn.metrics            import mean_squared_error, r2_score, mean_absolute_error"
   ]
  },
  {
   "cell_type": "markdown",
   "metadata": {},
   "source": [
    "Caso use Anaconda e enfrente o problema SSL ao rodar o código, a solução pode ser encontrada abaixo:\n",
    "\n",
    "https://github.com/conda/conda/issues/8273"
   ]
  },
  {
   "cell_type": "markdown",
   "metadata": {},
   "source": [
    "# 1.0 Fundos de Investimento Imobiliário (FII)"
   ]
  },
  {
   "cell_type": "markdown",
   "metadata": {},
   "source": [
    "## 1.1 Carregando dados"
   ]
  },
  {
   "cell_type": "code",
   "execution_count": 2,
   "metadata": {},
   "outputs": [
    {
     "data": {
      "text/plain": [
       "(250, 26)"
      ]
     },
     "execution_count": 2,
     "metadata": {},
     "output_type": "execute_result"
    }
   ],
   "source": [
    "url = \"https://www.fundsexplorer.com.br/ranking\"\n",
    "r = requests.get(url)\n",
    "df_list = pd.read_html(r.text)\n",
    "df = df_list[0]\n",
    "df.shape\n"
   ]
  },
  {
   "cell_type": "markdown",
   "metadata": {},
   "source": [
    "## 1.2 Dimensões de dados"
   ]
  },
  {
   "cell_type": "code",
   "execution_count": 3,
   "metadata": {},
   "outputs": [
    {
     "name": "stdout",
     "output_type": "stream",
     "text": [
      "Total de linhas: 250\n",
      "Total de colunas: 26\n"
     ]
    }
   ],
   "source": [
    "print(f'Total de linhas: {df.shape[0]}')\n",
    "print(f'Total de colunas: {df.shape[1]}')"
   ]
  },
  {
   "cell_type": "markdown",
   "metadata": {},
   "source": [
    "## 1.3 Tipo dos dados"
   ]
  },
  {
   "cell_type": "code",
   "execution_count": 4,
   "metadata": {},
   "outputs": [
    {
     "data": {
      "text/plain": [
       "Códigodo fundo              object\n",
       "Setor                       object\n",
       "Preço Atual                 object\n",
       "Liquidez Diária            float64\n",
       "Dividendo                   object\n",
       "DividendYield               object\n",
       "DY (3M)Acumulado            object\n",
       "DY (6M)Acumulado            object\n",
       "DY (12M)Acumulado           object\n",
       "DY (3M)Média                object\n",
       "DY (6M)Média                object\n",
       "DY (12M)Média               object\n",
       "DY Ano                      object\n",
       "Variação Preço              object\n",
       "Rentab.Período              object\n",
       "Rentab.Acumulada            object\n",
       "PatrimônioLíq.              object\n",
       "VPA                         object\n",
       "P/VPA                      float64\n",
       "DYPatrimonial               object\n",
       "VariaçãoPatrimonial         object\n",
       "Rentab. Patr.no Período     object\n",
       "Rentab. Patr.Acumulada      object\n",
       "VacânciaFísica              object\n",
       "VacânciaFinanceira          object\n",
       "QuantidadeAtivos             int64\n",
       "dtype: object"
      ]
     },
     "execution_count": 4,
     "metadata": {},
     "output_type": "execute_result"
    }
   ],
   "source": [
    "df.dtypes"
   ]
  },
  {
   "cell_type": "markdown",
   "metadata": {},
   "source": [
    "## 1.4 Verificando e subtituindo NA"
   ]
  },
  {
   "cell_type": "code",
   "execution_count": 5,
   "metadata": {},
   "outputs": [
    {
     "data": {
      "text/plain": [
       "Códigodo fundo               0\n",
       "Setor                        0\n",
       "Preço Atual                  7\n",
       "Liquidez Diária              7\n",
       "Dividendo                    0\n",
       "DividendYield               12\n",
       "DY (3M)Acumulado            12\n",
       "DY (6M)Acumulado            12\n",
       "DY (12M)Acumulado           12\n",
       "DY (3M)Média                12\n",
       "DY (6M)Média                12\n",
       "DY (12M)Média               12\n",
       "DY Ano                      23\n",
       "Variação Preço              12\n",
       "Rentab.Período              12\n",
       "Rentab.Acumulada            12\n",
       "PatrimônioLíq.               0\n",
       "VPA                          0\n",
       "P/VPA                        7\n",
       "DYPatrimonial               47\n",
       "VariaçãoPatrimonial         47\n",
       "Rentab. Patr.no Período     47\n",
       "Rentab. Patr.Acumulada      47\n",
       "VacânciaFísica             130\n",
       "VacânciaFinanceira         224\n",
       "QuantidadeAtivos             0\n",
       "dtype: int64"
      ]
     },
     "execution_count": 5,
     "metadata": {},
     "output_type": "execute_result"
    }
   ],
   "source": [
    "# Verificar quantas colunas possuem dados nulos\n",
    "df.isnull().sum()"
   ]
  },
  {
   "cell_type": "code",
   "execution_count": 6,
   "metadata": {},
   "outputs": [],
   "source": [
    "df = df.replace(np.nan,0)"
   ]
  },
  {
   "cell_type": "markdown",
   "metadata": {},
   "source": [
    "## 1.5 Selecionando colunas"
   ]
  },
  {
   "cell_type": "code",
   "execution_count": 7,
   "metadata": {},
   "outputs": [],
   "source": [
    "\n",
    "df = df.drop(columns=['DYPatrimonial','VariaçãoPatrimonial','Rentab. Patr.no Período',\n",
    "                    'Rentab. Patr.Acumulada','VacânciaFinanceira','DY Ano','DividendYield','DY (3M)Média','DY (6M)Média',\n",
    "                    'DY (3M)Acumulado',\t'DY (6M)Acumulado','DY (12M)Acumulado','DY (12M)Média'])"
   ]
  },
  {
   "cell_type": "code",
   "execution_count": 8,
   "metadata": {},
   "outputs": [],
   "source": [
    "dfColunas = []\n",
    "naoNumColunas = ['Códigodo fundo','Setor']\n",
    "for coluna in df:\n",
    "    if coluna in naoNumColunas:\n",
    "        pass\n",
    "    else:\n",
    "        dfColunas.append(coluna)       "
   ]
  },
  {
   "cell_type": "markdown",
   "metadata": {},
   "source": [
    "## 1.6 Tratamento de dados"
   ]
  },
  {
   "cell_type": "code",
   "execution_count": 9,
   "metadata": {},
   "outputs": [],
   "source": [
    "for colunas in dfColunas:\n",
    "    df[colunas] = [str(x).replace(\"R$ \",\"\").replace(\"%\",\"\").replace(\".\",\"\").replace(\",\",\".\") for x in df[colunas]]\n",
    "    df[colunas] = [pd.to_numeric(x) for x in df[colunas]]"
   ]
  },
  {
   "cell_type": "code",
   "execution_count": 10,
   "metadata": {},
   "outputs": [],
   "source": [
    "# Ajustando VPA para as cadas decimais corretas\n",
    "df['P/VPA'] = df['P/VPA'] / 1000"
   ]
  },
  {
   "cell_type": "markdown",
   "metadata": {},
   "source": [
    "## 1.7 Filtrando variáveis"
   ]
  },
  {
   "cell_type": "code",
   "execution_count": 11,
   "metadata": {},
   "outputs": [],
   "source": [
    "def filtroDF(quantidadeAtivos=9, liquidezDiaria=1000,PVPA=1.2,VacânciaFísica=10):\n",
    "# Filtrando para tirar FII's com alto risco\n",
    "        # Com mais de 5 ativos. Casos menores do que esse aumentam o risco pela baixa pulverização\n",
    "        dataFrame = df[(df['QuantidadeAtivos'] > quantidadeAtivos) & \n",
    "        # Liquidez diária superior a 1000\n",
    "                (df['Liquidez Diária'] > liquidezDiaria) &\n",
    "        # P/VPA até Máximo 1,2 (20% a mais do que o patrimonio)\n",
    "                (df['P/VPA'] < PVPA) &\n",
    "        # Vacância inferior a 10% do território\n",
    "                (df['VacânciaFísica'] < VacânciaFísica)]\n",
    "        return dataFrame\n",
    "        \n",
    "df = filtroDF()"
   ]
  },
  {
   "cell_type": "code",
   "execution_count": 12,
   "metadata": {},
   "outputs": [
    {
     "data": {
      "text/plain": [
       "['KNRI11', 'HGBS11', 'VILG11', 'HGLG11', 'BTLG11', 'XPML11']"
      ]
     },
     "execution_count": 12,
     "metadata": {},
     "output_type": "execute_result"
    }
   ],
   "source": [
    "testing = []\n",
    "listingCarlos = ['BTLG11','HGRY11','VILG11','HSML11','HGBS11','XPML11','KNRI11','HGRE11','HGLG11']\n",
    "for i in df['Códigodo fundo']:\n",
    "    if i in listingCarlos:\n",
    "        testing.append(i)\n",
    "testing        "
   ]
  },
  {
   "cell_type": "code",
   "execution_count": 13,
   "metadata": {},
   "outputs": [
    {
     "data": {
      "text/html": [
       "<div>\n",
       "<style scoped>\n",
       "    .dataframe tbody tr th:only-of-type {\n",
       "        vertical-align: middle;\n",
       "    }\n",
       "\n",
       "    .dataframe tbody tr th {\n",
       "        vertical-align: top;\n",
       "    }\n",
       "\n",
       "    .dataframe thead th {\n",
       "        text-align: right;\n",
       "    }\n",
       "</style>\n",
       "<table border=\"1\" class=\"dataframe\">\n",
       "  <thead>\n",
       "    <tr style=\"text-align: right;\">\n",
       "      <th></th>\n",
       "      <th>Códigodo fundo</th>\n",
       "      <th>Setor</th>\n",
       "      <th>Preço Atual</th>\n",
       "      <th>Liquidez Diária</th>\n",
       "      <th>Dividendo</th>\n",
       "      <th>Variação Preço</th>\n",
       "      <th>Rentab.Período</th>\n",
       "      <th>Rentab.Acumulada</th>\n",
       "      <th>PatrimônioLíq.</th>\n",
       "      <th>VPA</th>\n",
       "      <th>P/VPA</th>\n",
       "      <th>VacânciaFísica</th>\n",
       "      <th>QuantidadeAtivos</th>\n",
       "    </tr>\n",
       "  </thead>\n",
       "  <tbody>\n",
       "    <tr>\n",
       "      <th>84</th>\n",
       "      <td>KNRI11</td>\n",
       "      <td>Híbrido</td>\n",
       "      <td>142.35</td>\n",
       "      <td>249070</td>\n",
       "      <td>0.77</td>\n",
       "      <td>3.40</td>\n",
       "      <td>3.94</td>\n",
       "      <td>-3.99</td>\n",
       "      <td>3,800,803,257.11</td>\n",
       "      <td>157.34</td>\n",
       "      <td>0.90</td>\n",
       "      <td>3.35</td>\n",
       "      <td>20</td>\n",
       "    </tr>\n",
       "    <tr>\n",
       "      <th>163</th>\n",
       "      <td>HGLG11</td>\n",
       "      <td>Logística</td>\n",
       "      <td>167.51</td>\n",
       "      <td>433700</td>\n",
       "      <td>1.10</td>\n",
       "      <td>1.35</td>\n",
       "      <td>2.02</td>\n",
       "      <td>-2.84</td>\n",
       "      <td>3,151,358,842.72</td>\n",
       "      <td>147.86</td>\n",
       "      <td>1.13</td>\n",
       "      <td>6.30</td>\n",
       "      <td>17</td>\n",
       "    </tr>\n",
       "    <tr>\n",
       "      <th>113</th>\n",
       "      <td>HGRU11</td>\n",
       "      <td>Híbrido</td>\n",
       "      <td>114.00</td>\n",
       "      <td>375980</td>\n",
       "      <td>0.72</td>\n",
       "      <td>-3.13</td>\n",
       "      <td>-2.51</td>\n",
       "      <td>-7.36</td>\n",
       "      <td>2,163,602,469.79</td>\n",
       "      <td>117.55</td>\n",
       "      <td>0.97</td>\n",
       "      <td>0.00</td>\n",
       "      <td>16</td>\n",
       "    </tr>\n",
       "    <tr>\n",
       "      <th>87</th>\n",
       "      <td>HGBS11</td>\n",
       "      <td>Shoppings</td>\n",
       "      <td>189.32</td>\n",
       "      <td>196470</td>\n",
       "      <td>0.85</td>\n",
       "      <td>-3.29</td>\n",
       "      <td>-2.84</td>\n",
       "      <td>-13.48</td>\n",
       "      <td>2,143,980,697.65</td>\n",
       "      <td>214.40</td>\n",
       "      <td>0.88</td>\n",
       "      <td>7.10</td>\n",
       "      <td>17</td>\n",
       "    </tr>\n",
       "    <tr>\n",
       "      <th>247</th>\n",
       "      <td>XPML11</td>\n",
       "      <td>Shoppings</td>\n",
       "      <td>101.81</td>\n",
       "      <td>699970</td>\n",
       "      <td>0.57</td>\n",
       "      <td>-1.27</td>\n",
       "      <td>-0.72</td>\n",
       "      <td>-7.28</td>\n",
       "      <td>1,900,090,443.88</td>\n",
       "      <td>104.36</td>\n",
       "      <td>0.98</td>\n",
       "      <td>4.60</td>\n",
       "      <td>13</td>\n",
       "    </tr>\n",
       "    <tr>\n",
       "      <th>110</th>\n",
       "      <td>VILG11</td>\n",
       "      <td>Logística</td>\n",
       "      <td>102.58</td>\n",
       "      <td>394390</td>\n",
       "      <td>0.64</td>\n",
       "      <td>-0.83</td>\n",
       "      <td>-0.23</td>\n",
       "      <td>-8.67</td>\n",
       "      <td>1,708,615,548.48</td>\n",
       "      <td>113.93</td>\n",
       "      <td>0.90</td>\n",
       "      <td>0.00</td>\n",
       "      <td>15</td>\n",
       "    </tr>\n",
       "    <tr>\n",
       "      <th>103</th>\n",
       "      <td>VISC11</td>\n",
       "      <td>Shoppings</td>\n",
       "      <td>105.35</td>\n",
       "      <td>263140</td>\n",
       "      <td>0.58</td>\n",
       "      <td>0.59</td>\n",
       "      <td>1.16</td>\n",
       "      <td>-8.90</td>\n",
       "      <td>1,702,561,351.78</td>\n",
       "      <td>119.30</td>\n",
       "      <td>0.88</td>\n",
       "      <td>8.10</td>\n",
       "      <td>15</td>\n",
       "    </tr>\n",
       "    <tr>\n",
       "      <th>102</th>\n",
       "      <td>BRCO11</td>\n",
       "      <td>Logística</td>\n",
       "      <td>99.20</td>\n",
       "      <td>436720</td>\n",
       "      <td>0.57</td>\n",
       "      <td>-3.48</td>\n",
       "      <td>-2.92</td>\n",
       "      <td>-9.47</td>\n",
       "      <td>1,603,955,235.27</td>\n",
       "      <td>108.53</td>\n",
       "      <td>0.91</td>\n",
       "      <td>0.00</td>\n",
       "      <td>10</td>\n",
       "    </tr>\n",
       "    <tr>\n",
       "      <th>77</th>\n",
       "      <td>BBPO11</td>\n",
       "      <td>Lajes Corporativas</td>\n",
       "      <td>92.00</td>\n",
       "      <td>263620</td>\n",
       "      <td>0.82</td>\n",
       "      <td>-15.18</td>\n",
       "      <td>-14.46</td>\n",
       "      <td>-7.83</td>\n",
       "      <td>1,526,344,263.71</td>\n",
       "      <td>95.88</td>\n",
       "      <td>0.96</td>\n",
       "      <td>0.00</td>\n",
       "      <td>64</td>\n",
       "    </tr>\n",
       "    <tr>\n",
       "      <th>242</th>\n",
       "      <td>BTLG11</td>\n",
       "      <td>Logística</td>\n",
       "      <td>107.10</td>\n",
       "      <td>396070</td>\n",
       "      <td>0.72</td>\n",
       "      <td>1.37</td>\n",
       "      <td>2.05</td>\n",
       "      <td>-4.50</td>\n",
       "      <td>1,516,402,298.06</td>\n",
       "      <td>99.57</td>\n",
       "      <td>1.08</td>\n",
       "      <td>0.00</td>\n",
       "      <td>16</td>\n",
       "    </tr>\n",
       "    <tr>\n",
       "      <th>123</th>\n",
       "      <td>LVBI11</td>\n",
       "      <td>Logística</td>\n",
       "      <td>100.97</td>\n",
       "      <td>158800</td>\n",
       "      <td>0.65</td>\n",
       "      <td>-0.15</td>\n",
       "      <td>0.49</td>\n",
       "      <td>-10.24</td>\n",
       "      <td>1,350,783,017.73</td>\n",
       "      <td>114.71</td>\n",
       "      <td>0.88</td>\n",
       "      <td>3.20</td>\n",
       "      <td>10</td>\n",
       "    </tr>\n",
       "    <tr>\n",
       "      <th>96</th>\n",
       "      <td>RBVA11</td>\n",
       "      <td>Outros</td>\n",
       "      <td>103.30</td>\n",
       "      <td>160410</td>\n",
       "      <td>0.87</td>\n",
       "      <td>-2.60</td>\n",
       "      <td>-1.82</td>\n",
       "      <td>1.98</td>\n",
       "      <td>1,313,544,384.58</td>\n",
       "      <td>113.35</td>\n",
       "      <td>0.91</td>\n",
       "      <td>0.70</td>\n",
       "      <td>72</td>\n",
       "    </tr>\n",
       "    <tr>\n",
       "      <th>153</th>\n",
       "      <td>RZTR11</td>\n",
       "      <td>Híbrido</td>\n",
       "      <td>99.98</td>\n",
       "      <td>413960</td>\n",
       "      <td>0.95</td>\n",
       "      <td>2.65</td>\n",
       "      <td>3.62</td>\n",
       "      <td>-0.23</td>\n",
       "      <td>1,087,621,455.10</td>\n",
       "      <td>98.44</td>\n",
       "      <td>1.02</td>\n",
       "      <td>0.00</td>\n",
       "      <td>10</td>\n",
       "    </tr>\n",
       "    <tr>\n",
       "      <th>204</th>\n",
       "      <td>RBRP11</td>\n",
       "      <td>Outros</td>\n",
       "      <td>75.91</td>\n",
       "      <td>168590</td>\n",
       "      <td>0.45</td>\n",
       "      <td>-2.84</td>\n",
       "      <td>-2.25</td>\n",
       "      <td>-20.84</td>\n",
       "      <td>1,039,528,286.23</td>\n",
       "      <td>85.35</td>\n",
       "      <td>0.89</td>\n",
       "      <td>8.00</td>\n",
       "      <td>17</td>\n",
       "    </tr>\n",
       "    <tr>\n",
       "      <th>174</th>\n",
       "      <td>GGRC11</td>\n",
       "      <td>Logística</td>\n",
       "      <td>115.90</td>\n",
       "      <td>93560</td>\n",
       "      <td>0.80</td>\n",
       "      <td>0.68</td>\n",
       "      <td>1.37</td>\n",
       "      <td>-12.36</td>\n",
       "      <td>1,039,367,829.17</td>\n",
       "      <td>133.97</td>\n",
       "      <td>0.87</td>\n",
       "      <td>0.00</td>\n",
       "      <td>15</td>\n",
       "    </tr>\n",
       "    <tr>\n",
       "      <th>10</th>\n",
       "      <td>GSFI11</td>\n",
       "      <td>Shoppings</td>\n",
       "      <td>4.46</td>\n",
       "      <td>44130</td>\n",
       "      <td>0.00</td>\n",
       "      <td>0.00</td>\n",
       "      <td>0.03</td>\n",
       "      <td>0.03</td>\n",
       "      <td>907,019,849.19</td>\n",
       "      <td>13.24</td>\n",
       "      <td>0.34</td>\n",
       "      <td>9.50</td>\n",
       "      <td>10</td>\n",
       "    </tr>\n",
       "    <tr>\n",
       "      <th>244</th>\n",
       "      <td>ALZR11</td>\n",
       "      <td>Logística</td>\n",
       "      <td>115.30</td>\n",
       "      <td>94310</td>\n",
       "      <td>0.62</td>\n",
       "      <td>-0.34</td>\n",
       "      <td>0.19</td>\n",
       "      <td>-7.58</td>\n",
       "      <td>642,993,788.51</td>\n",
       "      <td>108.58</td>\n",
       "      <td>1.06</td>\n",
       "      <td>0.00</td>\n",
       "      <td>13</td>\n",
       "    </tr>\n",
       "    <tr>\n",
       "      <th>58</th>\n",
       "      <td>TRXF11</td>\n",
       "      <td>Outros</td>\n",
       "      <td>101.54</td>\n",
       "      <td>134080</td>\n",
       "      <td>0.72</td>\n",
       "      <td>-0.50</td>\n",
       "      <td>0.21</td>\n",
       "      <td>1.12</td>\n",
       "      <td>578,875,374.53</td>\n",
       "      <td>102.61</td>\n",
       "      <td>0.99</td>\n",
       "      <td>0.00</td>\n",
       "      <td>44</td>\n",
       "    </tr>\n",
       "    <tr>\n",
       "      <th>173</th>\n",
       "      <td>QAGR11</td>\n",
       "      <td>Outros</td>\n",
       "      <td>51.70</td>\n",
       "      <td>71520</td>\n",
       "      <td>0.38</td>\n",
       "      <td>-0.44</td>\n",
       "      <td>0.31</td>\n",
       "      <td>-1.59</td>\n",
       "      <td>301,127,070.71</td>\n",
       "      <td>59.75</td>\n",
       "      <td>0.87</td>\n",
       "      <td>0.00</td>\n",
       "      <td>12</td>\n",
       "    </tr>\n",
       "    <tr>\n",
       "      <th>76</th>\n",
       "      <td>BBRC11</td>\n",
       "      <td>Outros</td>\n",
       "      <td>100.93</td>\n",
       "      <td>9260</td>\n",
       "      <td>0.85</td>\n",
       "      <td>-4.15</td>\n",
       "      <td>-3.38</td>\n",
       "      <td>-10.35</td>\n",
       "      <td>180,306,764.82</td>\n",
       "      <td>113.40</td>\n",
       "      <td>0.89</td>\n",
       "      <td>5.40</td>\n",
       "      <td>20</td>\n",
       "    </tr>\n",
       "    <tr>\n",
       "      <th>60</th>\n",
       "      <td>BNFS11</td>\n",
       "      <td>Outros</td>\n",
       "      <td>122.98</td>\n",
       "      <td>1580</td>\n",
       "      <td>1.01</td>\n",
       "      <td>-3.81</td>\n",
       "      <td>-3.01</td>\n",
       "      <td>3.20</td>\n",
       "      <td>72,884,567.41</td>\n",
       "      <td>104.12</td>\n",
       "      <td>1.18</td>\n",
       "      <td>0.00</td>\n",
       "      <td>18</td>\n",
       "    </tr>\n",
       "  </tbody>\n",
       "</table>\n",
       "</div>"
      ],
      "text/plain": [
       "    Códigodo fundo               Setor  Preço Atual  Liquidez Diária  \\\n",
       "84          KNRI11             Híbrido       142.35           249070   \n",
       "163         HGLG11           Logística       167.51           433700   \n",
       "113         HGRU11             Híbrido       114.00           375980   \n",
       "87          HGBS11           Shoppings       189.32           196470   \n",
       "247         XPML11           Shoppings       101.81           699970   \n",
       "110         VILG11           Logística       102.58           394390   \n",
       "103         VISC11           Shoppings       105.35           263140   \n",
       "102         BRCO11           Logística        99.20           436720   \n",
       "77          BBPO11  Lajes Corporativas        92.00           263620   \n",
       "242         BTLG11           Logística       107.10           396070   \n",
       "123         LVBI11           Logística       100.97           158800   \n",
       "96          RBVA11              Outros       103.30           160410   \n",
       "153         RZTR11             Híbrido        99.98           413960   \n",
       "204         RBRP11              Outros        75.91           168590   \n",
       "174         GGRC11           Logística       115.90            93560   \n",
       "10          GSFI11           Shoppings         4.46            44130   \n",
       "244         ALZR11           Logística       115.30            94310   \n",
       "58          TRXF11              Outros       101.54           134080   \n",
       "173         QAGR11              Outros        51.70            71520   \n",
       "76          BBRC11              Outros       100.93             9260   \n",
       "60          BNFS11              Outros       122.98             1580   \n",
       "\n",
       "     Dividendo  Variação Preço  Rentab.Período  Rentab.Acumulada  \\\n",
       "84        0.77            3.40            3.94             -3.99   \n",
       "163       1.10            1.35            2.02             -2.84   \n",
       "113       0.72           -3.13           -2.51             -7.36   \n",
       "87        0.85           -3.29           -2.84            -13.48   \n",
       "247       0.57           -1.27           -0.72             -7.28   \n",
       "110       0.64           -0.83           -0.23             -8.67   \n",
       "103       0.58            0.59            1.16             -8.90   \n",
       "102       0.57           -3.48           -2.92             -9.47   \n",
       "77        0.82          -15.18          -14.46             -7.83   \n",
       "242       0.72            1.37            2.05             -4.50   \n",
       "123       0.65           -0.15            0.49            -10.24   \n",
       "96        0.87           -2.60           -1.82              1.98   \n",
       "153       0.95            2.65            3.62             -0.23   \n",
       "204       0.45           -2.84           -2.25            -20.84   \n",
       "174       0.80            0.68            1.37            -12.36   \n",
       "10        0.00            0.00            0.03              0.03   \n",
       "244       0.62           -0.34            0.19             -7.58   \n",
       "58        0.72           -0.50            0.21              1.12   \n",
       "173       0.38           -0.44            0.31             -1.59   \n",
       "76        0.85           -4.15           -3.38            -10.35   \n",
       "60        1.01           -3.81           -3.01              3.20   \n",
       "\n",
       "      PatrimônioLíq.    VPA  P/VPA  VacânciaFísica  QuantidadeAtivos  \n",
       "84  3,800,803,257.11 157.34   0.90            3.35                20  \n",
       "163 3,151,358,842.72 147.86   1.13            6.30                17  \n",
       "113 2,163,602,469.79 117.55   0.97            0.00                16  \n",
       "87  2,143,980,697.65 214.40   0.88            7.10                17  \n",
       "247 1,900,090,443.88 104.36   0.98            4.60                13  \n",
       "110 1,708,615,548.48 113.93   0.90            0.00                15  \n",
       "103 1,702,561,351.78 119.30   0.88            8.10                15  \n",
       "102 1,603,955,235.27 108.53   0.91            0.00                10  \n",
       "77  1,526,344,263.71  95.88   0.96            0.00                64  \n",
       "242 1,516,402,298.06  99.57   1.08            0.00                16  \n",
       "123 1,350,783,017.73 114.71   0.88            3.20                10  \n",
       "96  1,313,544,384.58 113.35   0.91            0.70                72  \n",
       "153 1,087,621,455.10  98.44   1.02            0.00                10  \n",
       "204 1,039,528,286.23  85.35   0.89            8.00                17  \n",
       "174 1,039,367,829.17 133.97   0.87            0.00                15  \n",
       "10    907,019,849.19  13.24   0.34            9.50                10  \n",
       "244   642,993,788.51 108.58   1.06            0.00                13  \n",
       "58    578,875,374.53 102.61   0.99            0.00                44  \n",
       "173   301,127,070.71  59.75   0.87            0.00                12  \n",
       "76    180,306,764.82 113.40   0.89            5.40                20  \n",
       "60     72,884,567.41 104.12   1.18            0.00                18  "
      ]
     },
     "execution_count": 13,
     "metadata": {},
     "output_type": "execute_result"
    }
   ],
   "source": [
    "# Ordernar por critérios de maior importância (na minha opinião)\n",
    "df = df.sort_values(by=['PatrimônioLíq.'], ascending = False)\n",
    "\n",
    "# Formatar para remover Notação Científica do Patrimônio Líquido\n",
    "# pd.set_option('display.float_format', lambda x: '%.2f' % x)\n",
    "pd.options.display.float_format = '{:,.2f}'.format\n",
    "df"
   ]
  },
  {
   "cell_type": "code",
   "execution_count": 14,
   "metadata": {},
   "outputs": [
    {
     "data": {
      "text/plain": [
       "Logística             7\n",
       "Outros                6\n",
       "Shoppings             4\n",
       "Híbrido               3\n",
       "Lajes Corporativas    1\n",
       "Name: Setor, dtype: int64"
      ]
     },
     "execution_count": 14,
     "metadata": {},
     "output_type": "execute_result"
    }
   ],
   "source": [
    "df['Setor'].value_counts()"
   ]
  },
  {
   "cell_type": "markdown",
   "metadata": {},
   "source": [
    "# 2.0 AÇÕES"
   ]
  },
  {
   "cell_type": "markdown",
   "metadata": {},
   "source": [
    "## 2.1 Carregando dados"
   ]
  },
  {
   "cell_type": "code",
   "execution_count": 285,
   "metadata": {},
   "outputs": [
    {
     "name": "stdout",
     "output_type": "stream",
     "text": [
      "[*********************100%***********************]  1 of 1 completed\n"
     ]
    }
   ],
   "source": [
    "# Cotação de cada empresa\n",
    "df_ibov = pdr.get_data_yahoo(\"PSSA3.SA\", start=\"2018-01-01\", end=(date.today() + timedelta(days=-1) ))\n"
   ]
  },
  {
   "cell_type": "markdown",
   "metadata": {},
   "source": [
    "## 2.2 Selecionando colunas"
   ]
  },
  {
   "cell_type": "code",
   "execution_count": 286,
   "metadata": {},
   "outputs": [],
   "source": [
    "df_ibov = df_ibov[['Open','Close','Volume']]\n",
    "df1 = df_ibov.copy()"
   ]
  },
  {
   "cell_type": "code",
   "execution_count": 287,
   "metadata": {},
   "outputs": [
    {
     "data": {
      "text/plain": [
       "Open      0\n",
       "Close     0\n",
       "Volume    0\n",
       "dtype: int64"
      ]
     },
     "execution_count": 287,
     "metadata": {},
     "output_type": "execute_result"
    }
   ],
   "source": [
    "df1.isnull().sum()"
   ]
  },
  {
   "cell_type": "markdown",
   "metadata": {},
   "source": [
    "## 2.3 Tratamento de Dados"
   ]
  },
  {
   "cell_type": "code",
   "execution_count": 288,
   "metadata": {},
   "outputs": [],
   "source": [
    "df1['MA_200'] = df1['Close'].rolling( window = 200).mean()\n",
    "df1['EMA_8'] = df1.ta.ema( close='Close', length= 8, append = True)\n",
    "# df1['EMA_21'] = df1.ta.ema( close='Close', length= 8, append = True)\n",
    "df1['MA_200'] = df1['MA_200'].fillna(0)\n",
    "df1['Volume'] = df1['Volume'].astype(int)\n",
    "df1 = df1.reset_index()\n",
    "df1 = df1.iloc[200:]\n"
   ]
  },
  {
   "cell_type": "code",
   "execution_count": 289,
   "metadata": {},
   "outputs": [
    {
     "data": {
      "text/plain": [
       "Date      datetime64[ns]\n",
       "Open             float64\n",
       "Close            float64\n",
       "Volume             int32\n",
       "MA_200           float64\n",
       "EMA_8            float64\n",
       "dtype: object"
      ]
     },
     "execution_count": 289,
     "metadata": {},
     "output_type": "execute_result"
    }
   ],
   "source": [
    "df1.dtypes"
   ]
  },
  {
   "cell_type": "code",
   "execution_count": 290,
   "metadata": {},
   "outputs": [
    {
     "data": {
      "text/plain": [
       "<AxesSubplot:>"
      ]
     },
     "execution_count": 290,
     "metadata": {},
     "output_type": "execute_result"
    },
    {
     "data": {
      "image/png": "[encoded data removed]",
      "text/plain": [
       "<Figure size 432x288 with 2 Axes>"
      ]
     },
     "metadata": {
      "needs_background": "light"
     },
     "output_type": "display_data"
    }
   ],
   "source": [
    "corr = df1.corr()\n",
    "sns.heatmap(corr, annot=True)"
   ]
  },
  {
   "cell_type": "code",
   "execution_count": 291,
   "metadata": {},
   "outputs": [
    {
     "data": {
      "image/png": "[encoded data removed]",
      "text/plain": [
       "<Figure size 1080x504 with 1 Axes>"
      ]
     },
     "metadata": {
      "needs_background": "light"
     },
     "output_type": "display_data"
    }
   ],
   "source": [
    "plt.figure(figsize=(15,7))\n",
    "plt.plot(df1['Date'], df1['Close'], label='Close')\n",
    "plt.plot(df1['Date'], df1['EMA_8'], 'r--', label='EMA 8')\n",
    "# plt.plot(df1['Date'], df1['EMA_21'], 'b--', label='EMA 21')\n",
    "plt.plot(df1['Date'], df1['MA_200'], 'g--', label='MA 200')\n",
    "plt.legend()\n",
    "plt.show()"
   ]
  },
  {
   "cell_type": "markdown",
   "metadata": {},
   "source": [
    "## 1.2 Divisão do período treino e teste"
   ]
  },
  {
   "cell_type": "code",
   "execution_count": 292,
   "metadata": {},
   "outputs": [
    {
     "name": "stdout",
     "output_type": "stream",
     "text": [
      "(588, 1) (147, 1) (588, 4) (147, 4)\n"
     ]
    }
   ],
   "source": [
    "X_train, X_test, y_train, y_test = train_test_split( df1[['Close']], df1[['Open','Volume','EMA_8','MA_200']], test_size= .2)\n",
    "print(X_train.shape, X_test.shape, y_train.shape, y_test.shape)"
   ]
  },
  {
   "cell_type": "code",
   "execution_count": 293,
   "metadata": {},
   "outputs": [
    {
     "data": {
      "text/plain": [
       "147"
      ]
     },
     "execution_count": 293,
     "metadata": {},
     "output_type": "execute_result"
    }
   ],
   "source": [
    "len(y_pred)"
   ]
  },
  {
   "cell_type": "code",
   "execution_count": 294,
   "metadata": {},
   "outputs": [
    {
     "data": {
      "text/plain": [
       "0.47950180004827136"
      ]
     },
     "execution_count": 294,
     "metadata": {},
     "output_type": "execute_result"
    }
   ],
   "source": [
    "lr = LinearRegression().fit(X_train, y_train)\n",
    "y_pred = lr.predict(X_test)\n",
    "lr.score(X_test, y_test)"
   ]
  },
  {
   "cell_type": "code",
   "execution_count": 295,
   "metadata": {},
   "outputs": [
    {
     "name": "stdout",
     "output_type": "stream",
     "text": [
      "Model Coefficients: [[ 9.68941257e-01]\n",
      " [-2.30127837e+04]\n",
      " [ 9.28573976e-01]\n",
      " [ 1.07524185e-01]]\n",
      "Mean Absolute Error: 87682.12129530567\n",
      "Coefficient of Determination: 0.47950180004827136\n"
     ]
    }
   ],
   "source": [
    "print(\"Model Coefficients:\", lr.coef_)\n",
    "print(\"Mean Absolute Error:\", mean_absolute_error( y_test, y_pred ))\n",
    "print(\"Coefficient of Determination:\", r2_score( y_test, y_pred))"
   ]
  },
  {
   "cell_type": "code",
   "execution_count": null,
   "metadata": {},
   "outputs": [],
   "source": []
  }
 ],
 "metadata": {
  "interpreter": {
   "hash": "0ae0c0bdb8941e8f0d5e6666d42361fe810b7b04c11a3cb8a647a432190f32a9"
  },
  "kernelspec": {
   "display_name": "Python 3.8.8 64-bit ('venvfii': venv)",
   "name": "python3"
  },
  "language_info": {
   "codemirror_mode": {
    "name": "ipython",
    "version": 3
   },
   "file_extension": ".py",
   "mimetype": "text/x-python",
   "name": "python",
   "nbconvert_exporter": "python",
   "pygments_lexer": "ipython3",
   "version": "3.8.8"
  },
  "orig_nbformat": 4
 },
 "nbformat": 4,
 "nbformat_minor": 2
}
