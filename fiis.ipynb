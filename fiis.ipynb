{
 "cells": [
  {
   "cell_type": "code",
   "execution_count": 59,
   "metadata": {},
   "outputs": [],
   "source": [
    "import requests\n",
    "import pandas           as pd\n",
    "import numpy            as np\n",
    "import seaborn          as sns\n",
    "import yfinance         as yfin #workaround as pandas_datareader is not working on yahoo today\n",
    "yfin.pdr_override()\n",
    "import matplotlib.pyplot as plt\n",
    "\n",
    "from datetime           import date, timedelta\n",
    "from bs4                import BeautifulSoup\n",
    "from pandas_datareader  import data as pdr\n",
    "from sklearn.linear_model import LinearRegression"
   ]
  },
  {
   "cell_type": "markdown",
   "metadata": {},
   "source": [
    "If you are using Anaconda, proceed as this in order to solve the SSL issue\n",
    "\n",
    "https://github.com/conda/conda/issues/8273"
   ]
  },
  {
   "cell_type": "markdown",
   "metadata": {},
   "source": [
    "# FII"
   ]
  },
  {
   "cell_type": "code",
   "execution_count": 2,
   "metadata": {},
   "outputs": [
    {
     "data": {
      "text/plain": [
       "(250, 26)"
      ]
     },
     "execution_count": 2,
     "metadata": {},
     "output_type": "execute_result"
    }
   ],
   "source": [
    "url = \"https://www.fundsexplorer.com.br/ranking\"\n",
    "r = requests.get(url)\n",
    "df_list = pd.read_html(r.text)\n",
    "df = df_list[0]\n",
    "df.shape\n"
   ]
  },
  {
   "cell_type": "code",
   "execution_count": 3,
   "metadata": {},
   "outputs": [],
   "source": [
    "# Verificar quantas colunas possuem dados nulos\n",
    "# df.isnull().sum()"
   ]
  },
  {
   "cell_type": "code",
   "execution_count": 4,
   "metadata": {},
   "outputs": [],
   "source": [
    "df = df.replace(np.nan,0)\n",
    "df = df.drop(columns=['DYPatrimonial','VariaçãoPatrimonial','Rentab. Patr.no Período',\n",
    "                    'Rentab. Patr.Acumulada','VacânciaFinanceira','DY Ano','DividendYield','DY (3M)Média','DY (6M)Média',\n",
    "                    'DY (3M)Acumulado',\t'DY (6M)Acumulado','DY (12M)Acumulado','DY (12M)Média'])"
   ]
  },
  {
   "cell_type": "code",
   "execution_count": 5,
   "metadata": {},
   "outputs": [],
   "source": [
    "dfColunas = []\n",
    "naoNumColunas = ['Códigodo fundo','Setor']\n",
    "for coluna in df:\n",
    "    if coluna in naoNumColunas:\n",
    "        pass\n",
    "    else:\n",
    "        dfColunas.append(coluna)       "
   ]
  },
  {
   "cell_type": "code",
   "execution_count": 6,
   "metadata": {},
   "outputs": [],
   "source": [
    "for colunas in dfColunas:\n",
    "    df[colunas] = [str(x).replace(\"R$ \",\"\").replace(\"%\",\"\").replace(\".\",\"\").replace(\",\",\".\") for x in df[colunas]]\n",
    "    df[colunas] = [pd.to_numeric(x) for x in df[colunas]]"
   ]
  },
  {
   "cell_type": "code",
   "execution_count": 7,
   "metadata": {},
   "outputs": [],
   "source": [
    "# Ajustando VPA para as cadas decimais corretas\n",
    "df['P/VPA'] = df['P/VPA'] / 1000"
   ]
  },
  {
   "cell_type": "code",
   "execution_count": 8,
   "metadata": {},
   "outputs": [],
   "source": [
    "def filtroDF(quantidadeAtivos=9, liquidezDiaria=1000,PVPA=1.2,VacânciaFísica=10):\n",
    "# Filtrando para tirar FII's com alto risco\n",
    "        # Com mais de 5 ativos. Casos menores do que esse aumentam o risco pela baixa pulverização\n",
    "        dataFrame = df[(df['QuantidadeAtivos'] > quantidadeAtivos) & \n",
    "        # Liquidez diária superior a 1000\n",
    "                (df['Liquidez Diária'] > liquidezDiaria) &\n",
    "        # P/VPA até Máximo 1,2 (20% a mais do que o patrimonio)\n",
    "                (df['P/VPA'] < PVPA) &\n",
    "        # Vacância inferior a 10% do território\n",
    "                (df['VacânciaFísica'] < VacânciaFísica)]\n",
    "        return dataFrame\n",
    "        \n",
    "df = filtroDF()"
   ]
  },
  {
   "cell_type": "code",
   "execution_count": 9,
   "metadata": {},
   "outputs": [
    {
     "data": {
      "text/plain": [
       "['XPML11', 'KNRI11', 'HGBS11', 'VILG11', 'HGLG11', 'BTLG11']"
      ]
     },
     "execution_count": 9,
     "metadata": {},
     "output_type": "execute_result"
    }
   ],
   "source": [
    "testing = []\n",
    "listingCarlos = ['BTLG11','HGRY11','VILG11','HSML11','HGBS11','XPML11','KNRI11','HGRE11','HGLG11']\n",
    "for i in df['Códigodo fundo']:\n",
    "    if i in listingCarlos:\n",
    "        testing.append(i)\n",
    "testing        "
   ]
  },
  {
   "cell_type": "code",
   "execution_count": 10,
   "metadata": {},
   "outputs": [
    {
     "data": {
      "text/html": [
       "<div>\n",
       "<style scoped>\n",
       "    .dataframe tbody tr th:only-of-type {\n",
       "        vertical-align: middle;\n",
       "    }\n",
       "\n",
       "    .dataframe tbody tr th {\n",
       "        vertical-align: top;\n",
       "    }\n",
       "\n",
       "    .dataframe thead th {\n",
       "        text-align: right;\n",
       "    }\n",
       "</style>\n",
       "<table border=\"1\" class=\"dataframe\">\n",
       "  <thead>\n",
       "    <tr style=\"text-align: right;\">\n",
       "      <th></th>\n",
       "      <th>Códigodo fundo</th>\n",
       "      <th>Setor</th>\n",
       "      <th>Preço Atual</th>\n",
       "      <th>Liquidez Diária</th>\n",
       "      <th>Dividendo</th>\n",
       "      <th>Variação Preço</th>\n",
       "      <th>Rentab.Período</th>\n",
       "      <th>Rentab.Acumulada</th>\n",
       "      <th>PatrimônioLíq.</th>\n",
       "      <th>VPA</th>\n",
       "      <th>P/VPA</th>\n",
       "      <th>VacânciaFísica</th>\n",
       "      <th>QuantidadeAtivos</th>\n",
       "    </tr>\n",
       "  </thead>\n",
       "  <tbody>\n",
       "    <tr>\n",
       "      <th>90</th>\n",
       "      <td>KNRI11</td>\n",
       "      <td>Híbrido</td>\n",
       "      <td>144.99</td>\n",
       "      <td>476700</td>\n",
       "      <td>0.77</td>\n",
       "      <td>3.40</td>\n",
       "      <td>3.94</td>\n",
       "      <td>-3.99</td>\n",
       "      <td>3,800,803,257.11</td>\n",
       "      <td>157.34</td>\n",
       "      <td>0.92</td>\n",
       "      <td>3.35</td>\n",
       "      <td>20</td>\n",
       "    </tr>\n",
       "    <tr>\n",
       "      <th>169</th>\n",
       "      <td>HGLG11</td>\n",
       "      <td>Logística</td>\n",
       "      <td>164.00</td>\n",
       "      <td>310310</td>\n",
       "      <td>1.10</td>\n",
       "      <td>1.35</td>\n",
       "      <td>2.02</td>\n",
       "      <td>-2.84</td>\n",
       "      <td>3,151,358,842.72</td>\n",
       "      <td>147.86</td>\n",
       "      <td>1.11</td>\n",
       "      <td>6.30</td>\n",
       "      <td>17</td>\n",
       "    </tr>\n",
       "    <tr>\n",
       "      <th>119</th>\n",
       "      <td>HGRU11</td>\n",
       "      <td>Híbrido</td>\n",
       "      <td>113.00</td>\n",
       "      <td>350020</td>\n",
       "      <td>0.72</td>\n",
       "      <td>-3.13</td>\n",
       "      <td>-2.51</td>\n",
       "      <td>-7.36</td>\n",
       "      <td>2,163,602,469.79</td>\n",
       "      <td>117.55</td>\n",
       "      <td>0.96</td>\n",
       "      <td>0.00</td>\n",
       "      <td>16</td>\n",
       "    </tr>\n",
       "    <tr>\n",
       "      <th>93</th>\n",
       "      <td>HGBS11</td>\n",
       "      <td>Shoppings</td>\n",
       "      <td>176.97</td>\n",
       "      <td>91650</td>\n",
       "      <td>0.85</td>\n",
       "      <td>-3.29</td>\n",
       "      <td>-2.84</td>\n",
       "      <td>-13.48</td>\n",
       "      <td>2,143,980,697.65</td>\n",
       "      <td>214.40</td>\n",
       "      <td>0.83</td>\n",
       "      <td>7.10</td>\n",
       "      <td>17</td>\n",
       "    </tr>\n",
       "    <tr>\n",
       "      <th>39</th>\n",
       "      <td>XPML11</td>\n",
       "      <td>Shoppings</td>\n",
       "      <td>100.73</td>\n",
       "      <td>168650</td>\n",
       "      <td>0.57</td>\n",
       "      <td>2.02</td>\n",
       "      <td>2.59</td>\n",
       "      <td>-6.61</td>\n",
       "      <td>1,900,090,443.88</td>\n",
       "      <td>104.36</td>\n",
       "      <td>0.97</td>\n",
       "      <td>4.60</td>\n",
       "      <td>13</td>\n",
       "    </tr>\n",
       "    <tr>\n",
       "      <th>116</th>\n",
       "      <td>VILG11</td>\n",
       "      <td>Logística</td>\n",
       "      <td>103.50</td>\n",
       "      <td>274340</td>\n",
       "      <td>0.64</td>\n",
       "      <td>-0.83</td>\n",
       "      <td>-0.23</td>\n",
       "      <td>-8.67</td>\n",
       "      <td>1,708,615,548.48</td>\n",
       "      <td>113.93</td>\n",
       "      <td>0.91</td>\n",
       "      <td>0.00</td>\n",
       "      <td>15</td>\n",
       "    </tr>\n",
       "    <tr>\n",
       "      <th>109</th>\n",
       "      <td>VISC11</td>\n",
       "      <td>Shoppings</td>\n",
       "      <td>103.16</td>\n",
       "      <td>137170</td>\n",
       "      <td>0.58</td>\n",
       "      <td>0.59</td>\n",
       "      <td>1.16</td>\n",
       "      <td>-8.90</td>\n",
       "      <td>1,702,561,351.78</td>\n",
       "      <td>119.30</td>\n",
       "      <td>0.86</td>\n",
       "      <td>8.10</td>\n",
       "      <td>15</td>\n",
       "    </tr>\n",
       "    <tr>\n",
       "      <th>108</th>\n",
       "      <td>BRCO11</td>\n",
       "      <td>Logística</td>\n",
       "      <td>100.71</td>\n",
       "      <td>191490</td>\n",
       "      <td>0.57</td>\n",
       "      <td>-3.48</td>\n",
       "      <td>-2.92</td>\n",
       "      <td>-9.47</td>\n",
       "      <td>1,603,955,235.27</td>\n",
       "      <td>108.53</td>\n",
       "      <td>0.93</td>\n",
       "      <td>0.00</td>\n",
       "      <td>10</td>\n",
       "    </tr>\n",
       "    <tr>\n",
       "      <th>83</th>\n",
       "      <td>BBPO11</td>\n",
       "      <td>Lajes Corporativas</td>\n",
       "      <td>92.71</td>\n",
       "      <td>220990</td>\n",
       "      <td>0.82</td>\n",
       "      <td>-15.18</td>\n",
       "      <td>-14.46</td>\n",
       "      <td>-7.83</td>\n",
       "      <td>1,526,344,263.71</td>\n",
       "      <td>95.88</td>\n",
       "      <td>0.97</td>\n",
       "      <td>0.00</td>\n",
       "      <td>64</td>\n",
       "    </tr>\n",
       "    <tr>\n",
       "      <th>248</th>\n",
       "      <td>BTLG11</td>\n",
       "      <td>Logística</td>\n",
       "      <td>106.91</td>\n",
       "      <td>401980</td>\n",
       "      <td>0.72</td>\n",
       "      <td>1.37</td>\n",
       "      <td>2.05</td>\n",
       "      <td>-4.50</td>\n",
       "      <td>1,516,402,298.06</td>\n",
       "      <td>99.57</td>\n",
       "      <td>1.07</td>\n",
       "      <td>0.00</td>\n",
       "      <td>16</td>\n",
       "    </tr>\n",
       "    <tr>\n",
       "      <th>129</th>\n",
       "      <td>LVBI11</td>\n",
       "      <td>Logística</td>\n",
       "      <td>100.79</td>\n",
       "      <td>113070</td>\n",
       "      <td>0.65</td>\n",
       "      <td>-0.15</td>\n",
       "      <td>0.49</td>\n",
       "      <td>-10.24</td>\n",
       "      <td>1,350,783,017.73</td>\n",
       "      <td>114.71</td>\n",
       "      <td>0.88</td>\n",
       "      <td>3.20</td>\n",
       "      <td>10</td>\n",
       "    </tr>\n",
       "    <tr>\n",
       "      <th>102</th>\n",
       "      <td>RBVA11</td>\n",
       "      <td>Outros</td>\n",
       "      <td>104.62</td>\n",
       "      <td>140280</td>\n",
       "      <td>0.87</td>\n",
       "      <td>-2.60</td>\n",
       "      <td>-1.82</td>\n",
       "      <td>1.98</td>\n",
       "      <td>1,313,544,384.58</td>\n",
       "      <td>113.35</td>\n",
       "      <td>0.92</td>\n",
       "      <td>0.70</td>\n",
       "      <td>72</td>\n",
       "    </tr>\n",
       "    <tr>\n",
       "      <th>159</th>\n",
       "      <td>RZTR11</td>\n",
       "      <td>Híbrido</td>\n",
       "      <td>98.27</td>\n",
       "      <td>220330</td>\n",
       "      <td>0.95</td>\n",
       "      <td>2.65</td>\n",
       "      <td>3.62</td>\n",
       "      <td>-0.23</td>\n",
       "      <td>1,087,621,455.10</td>\n",
       "      <td>98.44</td>\n",
       "      <td>1.00</td>\n",
       "      <td>0.00</td>\n",
       "      <td>10</td>\n",
       "    </tr>\n",
       "    <tr>\n",
       "      <th>210</th>\n",
       "      <td>RBRP11</td>\n",
       "      <td>Outros</td>\n",
       "      <td>75.05</td>\n",
       "      <td>138500</td>\n",
       "      <td>0.45</td>\n",
       "      <td>-2.84</td>\n",
       "      <td>-2.25</td>\n",
       "      <td>-20.84</td>\n",
       "      <td>1,039,528,286.23</td>\n",
       "      <td>85.35</td>\n",
       "      <td>0.88</td>\n",
       "      <td>8.00</td>\n",
       "      <td>17</td>\n",
       "    </tr>\n",
       "    <tr>\n",
       "      <th>180</th>\n",
       "      <td>GGRC11</td>\n",
       "      <td>Logística</td>\n",
       "      <td>115.90</td>\n",
       "      <td>71880</td>\n",
       "      <td>0.80</td>\n",
       "      <td>0.68</td>\n",
       "      <td>1.37</td>\n",
       "      <td>-12.36</td>\n",
       "      <td>1,039,367,829.17</td>\n",
       "      <td>133.97</td>\n",
       "      <td>0.87</td>\n",
       "      <td>0.00</td>\n",
       "      <td>15</td>\n",
       "    </tr>\n",
       "    <tr>\n",
       "      <th>10</th>\n",
       "      <td>GSFI11</td>\n",
       "      <td>Shoppings</td>\n",
       "      <td>4.46</td>\n",
       "      <td>44840</td>\n",
       "      <td>0.00</td>\n",
       "      <td>0.00</td>\n",
       "      <td>0.03</td>\n",
       "      <td>0.03</td>\n",
       "      <td>907,019,849.19</td>\n",
       "      <td>13.24</td>\n",
       "      <td>0.34</td>\n",
       "      <td>9.50</td>\n",
       "      <td>10</td>\n",
       "    </tr>\n",
       "    <tr>\n",
       "      <th>38</th>\n",
       "      <td>ALZR11</td>\n",
       "      <td>Logística</td>\n",
       "      <td>115.59</td>\n",
       "      <td>57210</td>\n",
       "      <td>0.67</td>\n",
       "      <td>0.15</td>\n",
       "      <td>0.73</td>\n",
       "      <td>-7.75</td>\n",
       "      <td>642,993,788.51</td>\n",
       "      <td>108.58</td>\n",
       "      <td>1.06</td>\n",
       "      <td>0.00</td>\n",
       "      <td>13</td>\n",
       "    </tr>\n",
       "    <tr>\n",
       "      <th>64</th>\n",
       "      <td>TRXF11</td>\n",
       "      <td>Outros</td>\n",
       "      <td>101.60</td>\n",
       "      <td>105390</td>\n",
       "      <td>0.72</td>\n",
       "      <td>-0.50</td>\n",
       "      <td>0.21</td>\n",
       "      <td>1.12</td>\n",
       "      <td>578,875,374.53</td>\n",
       "      <td>102.61</td>\n",
       "      <td>0.99</td>\n",
       "      <td>0.00</td>\n",
       "      <td>44</td>\n",
       "    </tr>\n",
       "    <tr>\n",
       "      <th>179</th>\n",
       "      <td>QAGR11</td>\n",
       "      <td>Outros</td>\n",
       "      <td>51.89</td>\n",
       "      <td>150700</td>\n",
       "      <td>0.38</td>\n",
       "      <td>-0.44</td>\n",
       "      <td>0.31</td>\n",
       "      <td>-1.59</td>\n",
       "      <td>301,127,070.71</td>\n",
       "      <td>59.75</td>\n",
       "      <td>0.87</td>\n",
       "      <td>0.00</td>\n",
       "      <td>12</td>\n",
       "    </tr>\n",
       "    <tr>\n",
       "      <th>82</th>\n",
       "      <td>BBRC11</td>\n",
       "      <td>Outros</td>\n",
       "      <td>101.49</td>\n",
       "      <td>6210</td>\n",
       "      <td>0.85</td>\n",
       "      <td>-4.15</td>\n",
       "      <td>-3.38</td>\n",
       "      <td>-10.35</td>\n",
       "      <td>180,306,764.82</td>\n",
       "      <td>113.40</td>\n",
       "      <td>0.89</td>\n",
       "      <td>5.40</td>\n",
       "      <td>20</td>\n",
       "    </tr>\n",
       "    <tr>\n",
       "      <th>187</th>\n",
       "      <td>BREV11</td>\n",
       "      <td>Híbrido</td>\n",
       "      <td>95.00</td>\n",
       "      <td>5170</td>\n",
       "      <td>0.53</td>\n",
       "      <td>-11.54</td>\n",
       "      <td>-11.02</td>\n",
       "      <td>-17.33</td>\n",
       "      <td>101,686,256.15</td>\n",
       "      <td>105.13</td>\n",
       "      <td>0.90</td>\n",
       "      <td>0.00</td>\n",
       "      <td>12</td>\n",
       "    </tr>\n",
       "    <tr>\n",
       "      <th>66</th>\n",
       "      <td>BNFS11</td>\n",
       "      <td>Outros</td>\n",
       "      <td>122.79</td>\n",
       "      <td>2690</td>\n",
       "      <td>1.01</td>\n",
       "      <td>-3.81</td>\n",
       "      <td>-3.01</td>\n",
       "      <td>3.20</td>\n",
       "      <td>72,884,567.41</td>\n",
       "      <td>104.12</td>\n",
       "      <td>1.18</td>\n",
       "      <td>0.00</td>\n",
       "      <td>18</td>\n",
       "    </tr>\n",
       "  </tbody>\n",
       "</table>\n",
       "</div>"
      ],
      "text/plain": [
       "    Códigodo fundo               Setor  Preço Atual  Liquidez Diária  \\\n",
       "90          KNRI11             Híbrido       144.99           476700   \n",
       "169         HGLG11           Logística       164.00           310310   \n",
       "119         HGRU11             Híbrido       113.00           350020   \n",
       "93          HGBS11           Shoppings       176.97            91650   \n",
       "39          XPML11           Shoppings       100.73           168650   \n",
       "116         VILG11           Logística       103.50           274340   \n",
       "109         VISC11           Shoppings       103.16           137170   \n",
       "108         BRCO11           Logística       100.71           191490   \n",
       "83          BBPO11  Lajes Corporativas        92.71           220990   \n",
       "248         BTLG11           Logística       106.91           401980   \n",
       "129         LVBI11           Logística       100.79           113070   \n",
       "102         RBVA11              Outros       104.62           140280   \n",
       "159         RZTR11             Híbrido        98.27           220330   \n",
       "210         RBRP11              Outros        75.05           138500   \n",
       "180         GGRC11           Logística       115.90            71880   \n",
       "10          GSFI11           Shoppings         4.46            44840   \n",
       "38          ALZR11           Logística       115.59            57210   \n",
       "64          TRXF11              Outros       101.60           105390   \n",
       "179         QAGR11              Outros        51.89           150700   \n",
       "82          BBRC11              Outros       101.49             6210   \n",
       "187         BREV11             Híbrido        95.00             5170   \n",
       "66          BNFS11              Outros       122.79             2690   \n",
       "\n",
       "     Dividendo  Variação Preço  Rentab.Período  Rentab.Acumulada  \\\n",
       "90        0.77            3.40            3.94             -3.99   \n",
       "169       1.10            1.35            2.02             -2.84   \n",
       "119       0.72           -3.13           -2.51             -7.36   \n",
       "93        0.85           -3.29           -2.84            -13.48   \n",
       "39        0.57            2.02            2.59             -6.61   \n",
       "116       0.64           -0.83           -0.23             -8.67   \n",
       "109       0.58            0.59            1.16             -8.90   \n",
       "108       0.57           -3.48           -2.92             -9.47   \n",
       "83        0.82          -15.18          -14.46             -7.83   \n",
       "248       0.72            1.37            2.05             -4.50   \n",
       "129       0.65           -0.15            0.49            -10.24   \n",
       "102       0.87           -2.60           -1.82              1.98   \n",
       "159       0.95            2.65            3.62             -0.23   \n",
       "210       0.45           -2.84           -2.25            -20.84   \n",
       "180       0.80            0.68            1.37            -12.36   \n",
       "10        0.00            0.00            0.03              0.03   \n",
       "38        0.67            0.15            0.73             -7.75   \n",
       "64        0.72           -0.50            0.21              1.12   \n",
       "179       0.38           -0.44            0.31             -1.59   \n",
       "82        0.85           -4.15           -3.38            -10.35   \n",
       "187       0.53          -11.54          -11.02            -17.33   \n",
       "66        1.01           -3.81           -3.01              3.20   \n",
       "\n",
       "      PatrimônioLíq.    VPA  P/VPA  VacânciaFísica  QuantidadeAtivos  \n",
       "90  3,800,803,257.11 157.34   0.92            3.35                20  \n",
       "169 3,151,358,842.72 147.86   1.11            6.30                17  \n",
       "119 2,163,602,469.79 117.55   0.96            0.00                16  \n",
       "93  2,143,980,697.65 214.40   0.83            7.10                17  \n",
       "39  1,900,090,443.88 104.36   0.97            4.60                13  \n",
       "116 1,708,615,548.48 113.93   0.91            0.00                15  \n",
       "109 1,702,561,351.78 119.30   0.86            8.10                15  \n",
       "108 1,603,955,235.27 108.53   0.93            0.00                10  \n",
       "83  1,526,344,263.71  95.88   0.97            0.00                64  \n",
       "248 1,516,402,298.06  99.57   1.07            0.00                16  \n",
       "129 1,350,783,017.73 114.71   0.88            3.20                10  \n",
       "102 1,313,544,384.58 113.35   0.92            0.70                72  \n",
       "159 1,087,621,455.10  98.44   1.00            0.00                10  \n",
       "210 1,039,528,286.23  85.35   0.88            8.00                17  \n",
       "180 1,039,367,829.17 133.97   0.87            0.00                15  \n",
       "10    907,019,849.19  13.24   0.34            9.50                10  \n",
       "38    642,993,788.51 108.58   1.06            0.00                13  \n",
       "64    578,875,374.53 102.61   0.99            0.00                44  \n",
       "179   301,127,070.71  59.75   0.87            0.00                12  \n",
       "82    180,306,764.82 113.40   0.89            5.40                20  \n",
       "187   101,686,256.15 105.13   0.90            0.00                12  \n",
       "66     72,884,567.41 104.12   1.18            0.00                18  "
      ]
     },
     "execution_count": 10,
     "metadata": {},
     "output_type": "execute_result"
    }
   ],
   "source": [
    "# Ordernar por critérios de maior importância (na minha opinião)\n",
    "df = df.sort_values(by=['PatrimônioLíq.'], ascending = False)\n",
    "\n",
    "# Formatar para remover Notação Científica do Patrimônio Líquido\n",
    "# pd.set_option('display.float_format', lambda x: '%.2f' % x)\n",
    "pd.options.display.float_format = '{:,.2f}'.format\n",
    "df"
   ]
  },
  {
   "cell_type": "code",
   "execution_count": 11,
   "metadata": {},
   "outputs": [
    {
     "data": {
      "text/plain": [
       "Logística             7\n",
       "Outros                6\n",
       "Híbrido               4\n",
       "Shoppings             4\n",
       "Lajes Corporativas    1\n",
       "Name: Setor, dtype: int64"
      ]
     },
     "execution_count": 11,
     "metadata": {},
     "output_type": "execute_result"
    }
   ],
   "source": [
    "df['Setor'].value_counts()"
   ]
  },
  {
   "cell_type": "markdown",
   "metadata": {},
   "source": [
    "# AÇÕES"
   ]
  },
  {
   "cell_type": "markdown",
   "metadata": {},
   "source": [
    "## 1.0 Importa Histórico de Ações"
   ]
  },
  {
   "cell_type": "code",
   "execution_count": 96,
   "metadata": {},
   "outputs": [
    {
     "name": "stdout",
     "output_type": "stream",
     "text": [
      "[*********************100%***********************]  1 of 1 completed\n"
     ]
    }
   ],
   "source": [
    "# Cotação de cada empresa\n",
    "df_ibov = pdr.get_data_yahoo(\"GSFI11.SA\", start=\"2018-01-01\", end=(date.today() + timedelta(days=-1) ))\n",
    "df_ibov = df_ibov[['Open','Close','Volume']]\n",
    "df1 = df_ibov.copy()"
   ]
  },
  {
   "cell_type": "markdown",
   "metadata": {},
   "source": [
    "## 1.1 Adicionar Média Móvel de 200 dias"
   ]
  },
  {
   "cell_type": "code",
   "execution_count": 97,
   "metadata": {},
   "outputs": [],
   "source": [
    "df1['MA_200'] = df1['Close'].rolling( window = 200).mean()\n",
    "df1['MA_200'] = df1['MA_200'].fillna(df1['MA_200'].mean())\n",
    "\n",
    "df1 = df1.reset_index()"
   ]
  },
  {
   "cell_type": "markdown",
   "metadata": {},
   "source": [
    "## 1.2 Divisão do período treino e teste"
   ]
  },
  {
   "cell_type": "code",
   "execution_count": 102,
   "metadata": {},
   "outputs": [],
   "source": [
    "train = df1[df1['Date'] <  '2021-08-01' ]\n",
    "X_train = train.loc[ :, train.columns != 'Close']\n",
    "y_train = train['Close']\n",
    "\n",
    "test= df1[df1['Date'] >=  '2021-08-01' ]\n",
    "X_test = test.loc[ :, test.columns != 'Close']\n",
    "y_test = test['Close']"
   ]
  },
  {
   "cell_type": "code",
   "execution_count": 108,
   "metadata": {},
   "outputs": [
    {
     "data": {
      "text/plain": [
       "0     5.40\n",
       "1     5.39\n",
       "2     4.89\n",
       "3     4.89\n",
       "4     4.76\n",
       "      ... \n",
       "551   5.10\n",
       "552   5.07\n",
       "553   5.10\n",
       "554   5.10\n",
       "555   5.09\n",
       "Name: Close, Length: 556, dtype: float64"
      ]
     },
     "execution_count": 108,
     "metadata": {},
     "output_type": "execute_result"
    }
   ],
   "source": [
    "y_train"
   ]
  },
  {
   "cell_type": "code",
   "execution_count": 104,
   "metadata": {},
   "outputs": [
    {
     "ename": "TypeError",
     "evalue": "The DType <class 'numpy.dtype[datetime64]'> could not be promoted by <class 'numpy.dtype[float64]'>. This means that no common DType exists for the given inputs. For example they cannot be stored in a single array unless the dtype is `object`. The full list of DTypes is: (<class 'numpy.dtype[datetime64]'>, <class 'numpy.dtype[float64]'>, <class 'numpy.dtype[int64]'>, <class 'numpy.dtype[float64]'>)",
     "output_type": "error",
     "traceback": [
      "\u001b[1;31m---------------------------------------------------------------------------\u001b[0m",
      "\u001b[1;31mTypeError\u001b[0m                                 Traceback (most recent call last)",
      "\u001b[1;32mC:\\Users\\VINICI~1.SOU\\AppData\\Local\\Temp/ipykernel_1904/4207241356.py\u001b[0m in \u001b[0;36m<module>\u001b[1;34m\u001b[0m\n\u001b[1;32m----> 1\u001b[1;33m \u001b[0mlr\u001b[0m \u001b[1;33m=\u001b[0m \u001b[0mLinearRegression\u001b[0m\u001b[1;33m(\u001b[0m\u001b[1;33m)\u001b[0m\u001b[1;33m.\u001b[0m\u001b[0mfit\u001b[0m\u001b[1;33m(\u001b[0m\u001b[0mX_train\u001b[0m\u001b[1;33m,\u001b[0m \u001b[0my_train\u001b[0m\u001b[1;33m)\u001b[0m\u001b[1;33m\u001b[0m\u001b[1;33m\u001b[0m\u001b[0m\n\u001b[0m",
      "\u001b[1;32mc:\\Users\\vinicius.sousa\\Desktop\\github\\fii\\venvfii\\lib\\site-packages\\sklearn\\linear_model\\_base.py\u001b[0m in \u001b[0;36mfit\u001b[1;34m(self, X, y, sample_weight)\u001b[0m\n\u001b[0;32m    659\u001b[0m         \u001b[0maccept_sparse\u001b[0m \u001b[1;33m=\u001b[0m \u001b[1;32mFalse\u001b[0m \u001b[1;32mif\u001b[0m \u001b[0mself\u001b[0m\u001b[1;33m.\u001b[0m\u001b[0mpositive\u001b[0m \u001b[1;32melse\u001b[0m \u001b[1;33m[\u001b[0m\u001b[1;34m\"csr\"\u001b[0m\u001b[1;33m,\u001b[0m \u001b[1;34m\"csc\"\u001b[0m\u001b[1;33m,\u001b[0m \u001b[1;34m\"coo\"\u001b[0m\u001b[1;33m]\u001b[0m\u001b[1;33m\u001b[0m\u001b[1;33m\u001b[0m\u001b[0m\n\u001b[0;32m    660\u001b[0m \u001b[1;33m\u001b[0m\u001b[0m\n\u001b[1;32m--> 661\u001b[1;33m         X, y = self._validate_data(\n\u001b[0m\u001b[0;32m    662\u001b[0m             \u001b[0mX\u001b[0m\u001b[1;33m,\u001b[0m \u001b[0my\u001b[0m\u001b[1;33m,\u001b[0m \u001b[0maccept_sparse\u001b[0m\u001b[1;33m=\u001b[0m\u001b[0maccept_sparse\u001b[0m\u001b[1;33m,\u001b[0m \u001b[0my_numeric\u001b[0m\u001b[1;33m=\u001b[0m\u001b[1;32mTrue\u001b[0m\u001b[1;33m,\u001b[0m \u001b[0mmulti_output\u001b[0m\u001b[1;33m=\u001b[0m\u001b[1;32mTrue\u001b[0m\u001b[1;33m\u001b[0m\u001b[1;33m\u001b[0m\u001b[0m\n\u001b[0;32m    663\u001b[0m         )\n",
      "\u001b[1;32mc:\\Users\\vinicius.sousa\\Desktop\\github\\fii\\venvfii\\lib\\site-packages\\sklearn\\base.py\u001b[0m in \u001b[0;36m_validate_data\u001b[1;34m(self, X, y, reset, validate_separately, **check_params)\u001b[0m\n\u001b[0;32m    570\u001b[0m                 \u001b[0my\u001b[0m \u001b[1;33m=\u001b[0m \u001b[0mcheck_array\u001b[0m\u001b[1;33m(\u001b[0m\u001b[0my\u001b[0m\u001b[1;33m,\u001b[0m \u001b[1;33m**\u001b[0m\u001b[0mcheck_y_params\u001b[0m\u001b[1;33m)\u001b[0m\u001b[1;33m\u001b[0m\u001b[1;33m\u001b[0m\u001b[0m\n\u001b[0;32m    571\u001b[0m             \u001b[1;32melse\u001b[0m\u001b[1;33m:\u001b[0m\u001b[1;33m\u001b[0m\u001b[1;33m\u001b[0m\u001b[0m\n\u001b[1;32m--> 572\u001b[1;33m                 \u001b[0mX\u001b[0m\u001b[1;33m,\u001b[0m \u001b[0my\u001b[0m \u001b[1;33m=\u001b[0m \u001b[0mcheck_X_y\u001b[0m\u001b[1;33m(\u001b[0m\u001b[0mX\u001b[0m\u001b[1;33m,\u001b[0m \u001b[0my\u001b[0m\u001b[1;33m,\u001b[0m \u001b[1;33m**\u001b[0m\u001b[0mcheck_params\u001b[0m\u001b[1;33m)\u001b[0m\u001b[1;33m\u001b[0m\u001b[1;33m\u001b[0m\u001b[0m\n\u001b[0m\u001b[0;32m    573\u001b[0m             \u001b[0mout\u001b[0m \u001b[1;33m=\u001b[0m \u001b[0mX\u001b[0m\u001b[1;33m,\u001b[0m \u001b[0my\u001b[0m\u001b[1;33m\u001b[0m\u001b[1;33m\u001b[0m\u001b[0m\n\u001b[0;32m    574\u001b[0m \u001b[1;33m\u001b[0m\u001b[0m\n",
      "\u001b[1;32mc:\\Users\\vinicius.sousa\\Desktop\\github\\fii\\venvfii\\lib\\site-packages\\sklearn\\utils\\validation.py\u001b[0m in \u001b[0;36mcheck_X_y\u001b[1;34m(X, y, accept_sparse, accept_large_sparse, dtype, order, copy, force_all_finite, ensure_2d, allow_nd, multi_output, ensure_min_samples, ensure_min_features, y_numeric, estimator)\u001b[0m\n\u001b[0;32m    954\u001b[0m         \u001b[1;32mraise\u001b[0m \u001b[0mValueError\u001b[0m\u001b[1;33m(\u001b[0m\u001b[1;34m\"y cannot be None\"\u001b[0m\u001b[1;33m)\u001b[0m\u001b[1;33m\u001b[0m\u001b[1;33m\u001b[0m\u001b[0m\n\u001b[0;32m    955\u001b[0m \u001b[1;33m\u001b[0m\u001b[0m\n\u001b[1;32m--> 956\u001b[1;33m     X = check_array(\n\u001b[0m\u001b[0;32m    957\u001b[0m         \u001b[0mX\u001b[0m\u001b[1;33m,\u001b[0m\u001b[1;33m\u001b[0m\u001b[1;33m\u001b[0m\u001b[0m\n\u001b[0;32m    958\u001b[0m         \u001b[0maccept_sparse\u001b[0m\u001b[1;33m=\u001b[0m\u001b[0maccept_sparse\u001b[0m\u001b[1;33m,\u001b[0m\u001b[1;33m\u001b[0m\u001b[1;33m\u001b[0m\u001b[0m\n",
      "\u001b[1;32mc:\\Users\\vinicius.sousa\\Desktop\\github\\fii\\venvfii\\lib\\site-packages\\sklearn\\utils\\validation.py\u001b[0m in \u001b[0;36mcheck_array\u001b[1;34m(array, accept_sparse, accept_large_sparse, dtype, order, copy, force_all_finite, ensure_2d, allow_nd, ensure_min_samples, ensure_min_features, estimator)\u001b[0m\n\u001b[0;32m    655\u001b[0m \u001b[1;33m\u001b[0m\u001b[0m\n\u001b[0;32m    656\u001b[0m         \u001b[1;32mif\u001b[0m \u001b[0mall\u001b[0m\u001b[1;33m(\u001b[0m\u001b[0misinstance\u001b[0m\u001b[1;33m(\u001b[0m\u001b[0mdtype\u001b[0m\u001b[1;33m,\u001b[0m \u001b[0mnp\u001b[0m\u001b[1;33m.\u001b[0m\u001b[0mdtype\u001b[0m\u001b[1;33m)\u001b[0m \u001b[1;32mfor\u001b[0m \u001b[0mdtype\u001b[0m \u001b[1;32min\u001b[0m \u001b[0mdtypes_orig\u001b[0m\u001b[1;33m)\u001b[0m\u001b[1;33m:\u001b[0m\u001b[1;33m\u001b[0m\u001b[1;33m\u001b[0m\u001b[0m\n\u001b[1;32m--> 657\u001b[1;33m             \u001b[0mdtype_orig\u001b[0m \u001b[1;33m=\u001b[0m \u001b[0mnp\u001b[0m\u001b[1;33m.\u001b[0m\u001b[0mresult_type\u001b[0m\u001b[1;33m(\u001b[0m\u001b[1;33m*\u001b[0m\u001b[0mdtypes_orig\u001b[0m\u001b[1;33m)\u001b[0m\u001b[1;33m\u001b[0m\u001b[1;33m\u001b[0m\u001b[0m\n\u001b[0m\u001b[0;32m    658\u001b[0m \u001b[1;33m\u001b[0m\u001b[0m\n\u001b[0;32m    659\u001b[0m     \u001b[1;32mif\u001b[0m \u001b[0mdtype_numeric\u001b[0m\u001b[1;33m:\u001b[0m\u001b[1;33m\u001b[0m\u001b[1;33m\u001b[0m\u001b[0m\n",
      "\u001b[1;32m<__array_function__ internals>\u001b[0m in \u001b[0;36mresult_type\u001b[1;34m(*args, **kwargs)\u001b[0m\n",
      "\u001b[1;31mTypeError\u001b[0m: The DType <class 'numpy.dtype[datetime64]'> could not be promoted by <class 'numpy.dtype[float64]'>. This means that no common DType exists for the given inputs. For example they cannot be stored in a single array unless the dtype is `object`. The full list of DTypes is: (<class 'numpy.dtype[datetime64]'>, <class 'numpy.dtype[float64]'>, <class 'numpy.dtype[int64]'>, <class 'numpy.dtype[float64]'>)"
     ]
    }
   ],
   "source": [
    "lr = LinearRegression().fit(X_train, y_train)\n"
   ]
  },
  {
   "cell_type": "code",
   "execution_count": null,
   "metadata": {},
   "outputs": [],
   "source": []
  },
  {
   "cell_type": "code",
   "execution_count": 36,
   "metadata": {},
   "outputs": [
    {
     "data": {
      "image/png": "[encoded data removed]",
      "text/plain": [
       "<Figure size 1296x432 with 1 Axes>"
      ]
     },
     "metadata": {
      "needs_background": "light"
     },
     "output_type": "display_data"
    },
    {
     "data": {
      "image/png": "[encoded data removed]",
      "text/plain": [
       "<Figure size 1296x432 with 1 Axes>"
      ]
     },
     "metadata": {
      "needs_background": "light"
     },
     "output_type": "display_data"
    }
   ],
   "source": [
    "# plt.figure(figsize=(14,6))\n",
    "plt.figure(figsize=(18,6))\n",
    "df_ibov['Volume'].plot()\n",
    "plt.show()\n",
    "\n",
    "plt.figure(figsize=(18,6))\n",
    "df_ibov['Close'].plot()\n",
    "plt.show()\n",
    "\n"
   ]
  },
  {
   "cell_type": "code",
   "execution_count": 16,
   "metadata": {},
   "outputs": [
    {
     "data": {
      "text/plain": [
       "<AxesSubplot:>"
      ]
     },
     "execution_count": 16,
     "metadata": {},
     "output_type": "execute_result"
    },
    {
     "data": {
      "image/png": "[encoded data removed]",
      "text/plain": [
       "<Figure size 1080x432 with 2 Axes>"
      ]
     },
     "metadata": {
      "needs_background": "light"
     },
     "output_type": "display_data"
    }
   ],
   "source": [
    "plt.figure(figsize=(15,6))\n",
    "mask = np.triu(np.ones_like(df.corr(), dtype=bool))\n",
    "sns.heatmap(df.corr(),annot=True, mask=mask)"
   ]
  },
  {
   "cell_type": "code",
   "execution_count": 17,
   "metadata": {},
   "outputs": [],
   "source": [
    "# Criar um loop for para salvar todas as cotações em uma tabela\n",
    "# Plotar adj close relativo"
   ]
  },
  {
   "cell_type": "code",
   "execution_count": null,
   "metadata": {},
   "outputs": [],
   "source": []
  }
 ],
 "metadata": {
  "interpreter": {
   "hash": "0ae0c0bdb8941e8f0d5e6666d42361fe810b7b04c11a3cb8a647a432190f32a9"
  },
  "kernelspec": {
   "display_name": "Python 3.8.8 64-bit ('venvfii': venv)",
   "name": "python3"
  },
  "language_info": {
   "codemirror_mode": {
    "name": "ipython",
    "version": 3
   },
   "file_extension": ".py",
   "mimetype": "text/x-python",
   "name": "python",
   "nbconvert_exporter": "python",
   "pygments_lexer": "ipython3",
   "version": "3.8.8"
  },
  "orig_nbformat": 4
 },
 "nbformat": 4,
 "nbformat_minor": 2
}
